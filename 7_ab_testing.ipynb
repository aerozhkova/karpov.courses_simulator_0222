{
 "cells": [
  {
   "cell_type": "code",
   "execution_count": 3,
   "id": "88580742-6f8a-4c52-bf49-6a3ccc3ae01b",
   "metadata": {},
   "outputs": [],
   "source": [
    "import pandas as pd\n",
    "import matplotlib.pyplot as plt\n",
    "import numpy as np\n",
    "import seaborn as sns\n",
    "import telegram\n",
    "import pandahouse\n",
    "from datetime import date\n",
    "import io\n",
    "from read_db.CH import Getch\n",
    "import sys\n",
    "import os\n",
    "from scipy.stats import ttest_ind, mannwhitneyu"
   ]
  },
  {
   "cell_type": "markdown",
   "id": "c40786a2-d62a-44ad-bfea-84d500fbe610",
   "metadata": {},
   "source": [
    "## Задание 1"
   ]
  },
  {
   "cell_type": "code",
   "execution_count": 4,
   "id": "abf1529b-7034-4eda-adc3-02b3532dcf22",
   "metadata": {},
   "outputs": [],
   "source": [
    "df = Getch('''select user_id, exp_group,\n",
    "countIf(user_id, action='view') as view_cnt, \n",
    "countIf(user_id, action='like') as like_cnt, \n",
    "countIf(user_id, action='like')/countIf(user_id, action='view') as ctr \n",
    "from simulator_20211220.feed_actions \n",
    "where toDate(time) between '2021-12-08' and '2021-12-14'\n",
    "and exp_group in (2,3)\n",
    "group by user_id, exp_group\n",
    "''').df"
   ]
  },
  {
   "cell_type": "code",
   "execution_count": 5,
   "id": "1a1a51a5-7750-4047-bb83-984c1fde4b13",
   "metadata": {},
   "outputs": [],
   "source": [
    "def get_p_values(ctr_data, group1, group2, n):\n",
    "    p_values = []\n",
    "    for i in range(n):\n",
    "        resample_1 = df[df.exp_group==group1].sample(n=500, replace=True)\n",
    "        resample_2 = df[df.exp_group==group2].sample(n=500, replace=True)\n",
    "        p_value = ttest_ind(resample_1.ctr,resample_2.ctr, equal_var=False)\n",
    "        p_values.append(p_value.pvalue)\n",
    "    \n",
    "    \n",
    "    sns.displot(p_values, bins=100, color='navy').set(title='P-values')\n",
    "    \n",
    "    p_value_share = sum(1 for i in p_values if i<=0.05)/len(p_values)\n",
    "    if p_value_share <= 0.06:\n",
    "        msg = 'Система сплитования работает корректно, группы неоднородны в ' + str(round(p_value_share*100,2)) + '% случаев'\n",
    "    else:\n",
    "        msg = 'Система сплитования работает некорректно, группы неоднородны в ' + str(round(p_value_share*100,2)) + '% случаев'\n",
    "        \n",
    "    print(msg)"
   ]
  },
  {
   "cell_type": "code",
   "execution_count": 6,
   "id": "325b06f6-97eb-442e-a1ce-31ebabf77180",
   "metadata": {},
   "outputs": [
    {
     "name": "stdout",
     "output_type": "stream",
     "text": [
      "Система сплитования работает корректно, группы неоднородны в 5.13% случаев\n"
     ]
    },
    {
     "data": {
      "image/png": "[encoded data removed]",
      "text/plain": [
       "<Figure size 360x360 with 1 Axes>"
      ]
     },
     "metadata": {
      "needs_background": "light"
     },
     "output_type": "display_data"
    }
   ],
   "source": [
    "get_p_values(df, 2, 3, 10000)"
   ]
  },
  {
   "cell_type": "code",
   "execution_count": null,
   "id": "84dab3f9-4cef-4a5d-905e-744f06cd6ac1",
   "metadata": {},
   "outputs": [],
   "source": []
  },
  {
   "cell_type": "markdown",
   "id": "a5b3be41-b721-4221-b6bf-1d5633590588",
   "metadata": {},
   "source": [
    "## Задание 2"
   ]
  },
  {
   "cell_type": "code",
   "execution_count": 7,
   "id": "e5636969-9e2b-494a-965b-411462885c36",
   "metadata": {},
   "outputs": [],
   "source": [
    "df = Getch('''select user_id, exp_group,\n",
    "countIf(user_id, action='view') as view_cnt, \n",
    "countIf(user_id, action='like') as like_cnt, \n",
    "countIf(user_id, action='like')/countIf(user_id, action='view') as ctr \n",
    "from simulator_20211220.feed_actions \n",
    "where toDate(time) between '2021-12-29' and '2022-01-04'\n",
    "and exp_group in (0,1)\n",
    "group by user_id, exp_group\n",
    "''').df"
   ]
  },
  {
   "cell_type": "code",
   "execution_count": 8,
   "id": "9581e8a7-649c-47a5-be96-16825fdce325",
   "metadata": {},
   "outputs": [
    {
     "data": {
      "text/plain": [
       "<seaborn.axisgrid.FacetGrid at 0x7f9068534070>"
      ]
     },
     "execution_count": 8,
     "metadata": {},
     "output_type": "execute_result"
    },
    {
     "data": {
      "image/png": "[encoded data removed]",
      "text/plain": [
       "<Figure size 360x360 with 1 Axes>"
      ]
     },
     "metadata": {
      "needs_background": "light"
     },
     "output_type": "display_data"
    }
   ],
   "source": [
    "sns.displot(df[df.exp_group==0].ctr).set(title='CTRs in group 0')"
   ]
  },
  {
   "cell_type": "code",
   "execution_count": 9,
   "id": "c69c576d-a586-442a-8703-abd3a0100ed3",
   "metadata": {},
   "outputs": [
    {
     "data": {
      "text/plain": [
       "<seaborn.axisgrid.FacetGrid at 0x7f90bc4c0670>"
      ]
     },
     "execution_count": 9,
     "metadata": {},
     "output_type": "execute_result"
    },
    {
     "data": {
      "image/png": "[encoded data removed]",
      "text/plain": [
       "<Figure size 360x360 with 1 Axes>"
      ]
     },
     "metadata": {
      "needs_background": "light"
     },
     "output_type": "display_data"
    }
   ],
   "source": [
    "sns.displot(df[df.exp_group==1].ctr).set(title='CTRs in group 1')"
   ]
  },
  {
   "cell_type": "markdown",
   "id": "96b7e7b9-38d3-49cc-badd-4b0367912e13",
   "metadata": {},
   "source": [
    "#### Let's smooth it!"
   ]
  },
  {
   "cell_type": "code",
   "execution_count": 10,
   "id": "2c72e3ae-2ca2-46bd-9d39-3158fa1a2bd6",
   "metadata": {},
   "outputs": [],
   "source": [
    "def get_smoothed_ctr(like_cnt, view_cnt, global_ctr, alpha):\n",
    "    ctr_smoothed = (like_cnt + alpha*global_ctr) / (view_cnt + alpha)\n",
    "    return ctr_smoothed"
   ]
  },
  {
   "cell_type": "code",
   "execution_count": 11,
   "id": "7ba806da-1bad-4245-89fd-9c2151b6c2c3",
   "metadata": {},
   "outputs": [],
   "source": [
    "global_ctr = df.like_cnt.sum() / df.view_cnt.sum()\n",
    "df['ctr_smoothed'] = df.apply(lambda x: get_smoothed_ctr(x['like_cnt'], x['view_cnt'], global_ctr, 5), axis=1)"
   ]
  },
  {
   "cell_type": "markdown",
   "id": "d9045ff4-19e0-411e-83db-3297c5b373b7",
   "metadata": {},
   "source": [
    "#### Comparing CTR's in 2 groups"
   ]
  },
  {
   "cell_type": "code",
   "execution_count": 12,
   "id": "1ba8ab9b-8f9d-4add-82df-e818e72c5004",
   "metadata": {},
   "outputs": [],
   "source": [
    "def check_effect(smoothed_ctr_data, group1, group2):\n",
    "    p_value = ttest_ind(smoothed_ctr_data[smoothed_ctr_data.exp_group==group1].ctr_smoothed, smoothed_ctr_data[smoothed_ctr_data.exp_group==group2].ctr_smoothed, equal_var=False).pvalue\n",
    "    diff = (smoothed_ctr_data[smoothed_ctr_data.exp_group==group2].ctr_smoothed.mean() - smoothed_ctr_data[smoothed_ctr_data.exp_group==group1].ctr_smoothed.mean()) / smoothed_ctr_data[smoothed_ctr_data.exp_group==group1].ctr_smoothed.mean() *100\n",
    "    if p_value<0.05:\n",
    "        msg = 'Эффект от внедрения нового алгоритма присутствует, CTR увеличился на ' + str(round(diff,2)) + '%'\n",
    "    else:\n",
    "        msg = 'Эффект от внедрения нового алгоритма обнаружить не удалось'\n",
    "    print(msg)"
   ]
  },
  {
   "cell_type": "code",
   "execution_count": 13,
   "id": "bbaacb08-7f4a-493a-a426-500700f134da",
   "metadata": {},
   "outputs": [
    {
     "name": "stdout",
     "output_type": "stream",
     "text": [
      "Эффект от внедрения нового алгоритма присутствует, CTR увеличился на 5.97%\n"
     ]
    }
   ],
   "source": [
    "check_effect(df, 0, 1)"
   ]
  },
  {
   "cell_type": "markdown",
   "id": "f9e158ea-71cd-4c69-8917-87ff37f8b07e",
   "metadata": {},
   "source": [
    "#### Checking secondary metric"
   ]
  },
  {
   "cell_type": "code",
   "execution_count": 14,
   "id": "4fca4e57-7316-4f52-b232-8a19ad739021",
   "metadata": {},
   "outputs": [
    {
     "data": {
      "text/plain": [
       "<seaborn.axisgrid.FacetGrid at 0x7f906852f070>"
      ]
     },
     "execution_count": 14,
     "metadata": {},
     "output_type": "execute_result"
    },
    {
     "data": {
      "image/png": "[encoded data removed]",
      "text/plain": [
       "<Figure size 360x360 with 1 Axes>"
      ]
     },
     "metadata": {
      "needs_background": "light"
     },
     "output_type": "display_data"
    }
   ],
   "source": [
    "sns.displot(df[df.exp_group==0].view_cnt).set(title='Views in group 0')"
   ]
  },
  {
   "cell_type": "code",
   "execution_count": 15,
   "id": "f6de47fc-8aaa-4508-9c4c-ffbc9baf71ed",
   "metadata": {},
   "outputs": [
    {
     "data": {
      "text/plain": [
       "<seaborn.axisgrid.FacetGrid at 0x7f906c33dca0>"
      ]
     },
     "execution_count": 15,
     "metadata": {},
     "output_type": "execute_result"
    },
    {
     "data": {
      "image/png": "[encoded data removed]",
      "text/plain": [
       "<Figure size 360x360 with 1 Axes>"
      ]
     },
     "metadata": {
      "needs_background": "light"
     },
     "output_type": "display_data"
    }
   ],
   "source": [
    "sns.displot(df[df.exp_group==1].view_cnt).set(title='Views in group 1')"
   ]
  },
  {
   "cell_type": "code",
   "execution_count": 16,
   "id": "e16783f5-1963-472c-93e3-347dcb71c023",
   "metadata": {},
   "outputs": [],
   "source": [
    "def check_secondary_metric(data, group1, group2):\n",
    "    p_value = mannwhitneyu(data[data.exp_group==group1].view_cnt,data[data.exp_group==group2].view_cnt).pvalue\n",
    "    diff = (data[data.exp_group==group2].view_cnt.mean() - data[data.exp_group==group1].view_cnt.mean()) / data[data.exp_group==group1].view_cnt.mean() *100\n",
    "    if p_value<0.05:\n",
    "        msg = 'Новый алгоритм повлиял на вторичную метрику Views, она изменилась на ' + str(round(diff,2)) + '%'\n",
    "    else:\n",
    "        msg = 'Новый алгоритм не повлиял на значение вторичной метрики Views'\n",
    "        \n",
    "    print(msg)"
   ]
  },
  {
   "cell_type": "code",
   "execution_count": 17,
   "id": "7f5bbf27-37a2-4862-9679-526bf060ed4f",
   "metadata": {},
   "outputs": [
    {
     "name": "stdout",
     "output_type": "stream",
     "text": [
      "Новый алгоритм не повлиял на значение вторичной метрики Views\n"
     ]
    }
   ],
   "source": [
    "check_secondary_metric(df, 0, 1)"
   ]
  },
  {
   "cell_type": "markdown",
   "id": "1db86628-4f6e-49e7-a704-bdc73ce6b926",
   "metadata": {},
   "source": [
    "Рекомендация:\n",
    "    1. Внедрение нового алгоритма показало статистически значимый эффект на метрику CTR, она увеличилась на 5.97%\n",
    "    2. Внедрение нового алгоритма не повлияло на просмотры - вторичную метрику АБ-тестирования\n",
    "    3. Если эффект удовлетворяет требованиям к эффективности и финансовым требованиям, новый алгоритм можно использовать в проде."
   ]
  },
  {
   "cell_type": "code",
   "execution_count": null,
   "id": "504da1b1-336e-439f-84c8-2dbf8a799ebf",
   "metadata": {},
   "outputs": [],
   "source": []
  },
  {
   "cell_type": "markdown",
   "id": "3567e8d7-941a-4e84-b323-887e91bd332e",
   "metadata": {},
   "source": [
    "## Задание 3"
   ]
  },
  {
   "cell_type": "code",
   "execution_count": 18,
   "id": "58a98af7-e849-45ee-b453-74816fd22a23",
   "metadata": {},
   "outputs": [
    {
     "name": "stdout",
     "output_type": "stream",
     "text": [
      "Sample size: 175.38\n"
     ]
    }
   ],
   "source": [
    "from statsmodels.stats.power import TTestIndPower\n",
    "\n",
    "effect_size = 0.3\n",
    "alpha = 0.05\n",
    "power = 0.8 \n",
    "\n",
    "\n",
    "analysis = TTestIndPower()\n",
    "result = analysis.solve_power(effect_size, power=power, nobs1=None, ratio=1.0, alpha=alpha)\n",
    "\n",
    "print('Sample size: {:.2f}'.format(result))"
   ]
  },
  {
   "cell_type": "code",
   "execution_count": 19,
   "id": "b78ce554-f7ce-4390-8584-815ee2d27a84",
   "metadata": {},
   "outputs": [
    {
     "name": "stdout",
     "output_type": "stream",
     "text": [
      "Effect size: 0.18\n"
     ]
    }
   ],
   "source": [
    "n1 = len(df[df.exp_group==0])        # number of observations of sample 1\n",
    "n2 = len(df[df.exp_group==1])         # number of observations of sample 2\n",
    "mi1 = df[df.exp_group==0].ctr_smoothed.mean()       # mean of sample 1\n",
    "mi2 = df[df.exp_group==1].ctr_smoothed.mean()     # mean of sample 2\n",
    "sigma1 = df[df.exp_group==0].ctr_smoothed.std()     # standard deviation of sample 1\n",
    "sigma2 = df[df.exp_group==1].ctr_smoothed.std()     # standard deviation of sample 2\n",
    "alpha = 0.05   # significance level\n",
    "\n",
    "\n",
    "sd_pooled = np.sqrt(((n2 - 1)*sigma2**2 + (n1 - 1)*sigma1**2)/(n1 + n2 - 2))\n",
    "effect_size = (mi2 - mi1)/sd_pooled\n",
    "\n",
    "print('Effect size: {:.2f}'.format(effect_size))"
   ]
  },
  {
   "cell_type": "code",
   "execution_count": 21,
   "id": "37c4d96d-92d7-4316-9308-4661950e436f",
   "metadata": {},
   "outputs": [
    {
     "name": "stdout",
     "output_type": "stream",
     "text": [
      "Sample size: 501.42\n"
     ]
    }
   ],
   "source": [
    "alpha = 0.05\n",
    "power = 0.8 \n",
    "\n",
    "\n",
    "# perform power analysis\n",
    "analysis = TTestIndPower()\n",
    "result = analysis.solve_power(effect_size, power=power, nobs1=None, ratio=1.0, alpha=alpha)\n",
    "print('Sample size: {:.2f}'.format(result))"
   ]
  },
  {
   "cell_type": "markdown",
   "id": "6992c66b-d284-454d-be6f-228855114208",
   "metadata": {},
   "source": [
    "Для получения effect size = 0.18 можно было использовать меньший объем выборки."
   ]
  },
  {
   "cell_type": "code",
   "execution_count": null,
   "id": "70c27b86-574b-4df7-8cb8-b16c097acc72",
   "metadata": {},
   "outputs": [],
   "source": []
  }
 ],
 "metadata": {
  "kernelspec": {
   "display_name": "Python 3 (ipykernel)",
   "language": "python",
   "name": "python3"
  },
  "language_info": {
   "codemirror_mode": {
    "name": "ipython",
    "version": 3
   },
   "file_extension": ".py",
   "mimetype": "text/x-python",
   "name": "python",
   "nbconvert_exporter": "python",
   "pygments_lexer": "ipython3",
   "version": "3.9.7"
  }
 },
 "nbformat": 4,
 "nbformat_minor": 5
}
