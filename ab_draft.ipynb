{
 "cells": [
  {
   "cell_type": "code",
   "execution_count": 2,
   "id": "22460e9c-5da9-4f5d-bdff-4345000dba76",
   "metadata": {},
   "outputs": [],
   "source": [
    "import pandas as pd\n",
    "import matplotlib.pyplot as plt\n",
    "import numpy as np\n",
    "import seaborn as sns\n",
    "import telegram\n",
    "import pandahouse\n",
    "from datetime import date\n",
    "import io\n",
    "from read_db.CH import Getch\n",
    "import sys\n",
    "import os\n",
    "from scipy.stats import ttest_ind, mannwhitneyu"
   ]
  },
  {
   "cell_type": "code",
   "execution_count": null,
   "id": "218a8cfa-d3a3-4280-a64c-2550fa3e1e94",
   "metadata": {},
   "outputs": [],
   "source": [
    "# stats.mannwhitneyu(df1.ctr,df2.ctr)\n",
    "# stats.ttest_ind(df1.ctr,df2.ctr, equal_var=False)"
   ]
  },
  {
   "cell_type": "code",
   "execution_count": 85,
   "id": "79de8b85-b0ad-4666-8f57-6b092c3f58b2",
   "metadata": {},
   "outputs": [
    {
     "data": {
      "text/html": [
       "<div>\n",
       "<style scoped>\n",
       "    .dataframe tbody tr th:only-of-type {\n",
       "        vertical-align: middle;\n",
       "    }\n",
       "\n",
       "    .dataframe tbody tr th {\n",
       "        vertical-align: top;\n",
       "    }\n",
       "\n",
       "    .dataframe thead th {\n",
       "        text-align: right;\n",
       "    }\n",
       "</style>\n",
       "<table border=\"1\" class=\"dataframe\">\n",
       "  <thead>\n",
       "    <tr style=\"text-align: right;\">\n",
       "      <th></th>\n",
       "      <th>user_id</th>\n",
       "      <th>exp_group</th>\n",
       "      <th>view_cnt</th>\n",
       "      <th>like_cnt</th>\n",
       "      <th>ctr</th>\n",
       "    </tr>\n",
       "  </thead>\n",
       "  <tbody>\n",
       "    <tr>\n",
       "      <th>0</th>\n",
       "      <td>115383</td>\n",
       "      <td>3</td>\n",
       "      <td>36</td>\n",
       "      <td>11</td>\n",
       "      <td>0.305556</td>\n",
       "    </tr>\n",
       "    <tr>\n",
       "      <th>1</th>\n",
       "      <td>123580</td>\n",
       "      <td>3</td>\n",
       "      <td>92</td>\n",
       "      <td>15</td>\n",
       "      <td>0.163043</td>\n",
       "    </tr>\n",
       "    <tr>\n",
       "      <th>2</th>\n",
       "      <td>131473</td>\n",
       "      <td>2</td>\n",
       "      <td>148</td>\n",
       "      <td>26</td>\n",
       "      <td>0.175676</td>\n",
       "    </tr>\n",
       "    <tr>\n",
       "      <th>3</th>\n",
       "      <td>23985</td>\n",
       "      <td>2</td>\n",
       "      <td>66</td>\n",
       "      <td>12</td>\n",
       "      <td>0.181818</td>\n",
       "    </tr>\n",
       "    <tr>\n",
       "      <th>4</th>\n",
       "      <td>24523</td>\n",
       "      <td>2</td>\n",
       "      <td>120</td>\n",
       "      <td>17</td>\n",
       "      <td>0.141667</td>\n",
       "    </tr>\n",
       "    <tr>\n",
       "      <th>...</th>\n",
       "      <td>...</td>\n",
       "      <td>...</td>\n",
       "      <td>...</td>\n",
       "      <td>...</td>\n",
       "      <td>...</td>\n",
       "    </tr>\n",
       "    <tr>\n",
       "      <th>17044</th>\n",
       "      <td>122008</td>\n",
       "      <td>3</td>\n",
       "      <td>31</td>\n",
       "      <td>4</td>\n",
       "      <td>0.129032</td>\n",
       "    </tr>\n",
       "    <tr>\n",
       "      <th>17045</th>\n",
       "      <td>25383</td>\n",
       "      <td>2</td>\n",
       "      <td>57</td>\n",
       "      <td>16</td>\n",
       "      <td>0.280702</td>\n",
       "    </tr>\n",
       "    <tr>\n",
       "      <th>17046</th>\n",
       "      <td>122190</td>\n",
       "      <td>3</td>\n",
       "      <td>74</td>\n",
       "      <td>25</td>\n",
       "      <td>0.337838</td>\n",
       "    </tr>\n",
       "    <tr>\n",
       "      <th>17047</th>\n",
       "      <td>108927</td>\n",
       "      <td>2</td>\n",
       "      <td>33</td>\n",
       "      <td>8</td>\n",
       "      <td>0.242424</td>\n",
       "    </tr>\n",
       "    <tr>\n",
       "      <th>17048</th>\n",
       "      <td>17310</td>\n",
       "      <td>2</td>\n",
       "      <td>14</td>\n",
       "      <td>2</td>\n",
       "      <td>0.142857</td>\n",
       "    </tr>\n",
       "  </tbody>\n",
       "</table>\n",
       "<p>17049 rows × 5 columns</p>\n",
       "</div>"
      ],
      "text/plain": [
       "       user_id  exp_group  view_cnt  like_cnt       ctr\n",
       "0       115383          3        36        11  0.305556\n",
       "1       123580          3        92        15  0.163043\n",
       "2       131473          2       148        26  0.175676\n",
       "3        23985          2        66        12  0.181818\n",
       "4        24523          2       120        17  0.141667\n",
       "...        ...        ...       ...       ...       ...\n",
       "17044   122008          3        31         4  0.129032\n",
       "17045    25383          2        57        16  0.280702\n",
       "17046   122190          3        74        25  0.337838\n",
       "17047   108927          2        33         8  0.242424\n",
       "17048    17310          2        14         2  0.142857\n",
       "\n",
       "[17049 rows x 5 columns]"
      ]
     },
     "execution_count": 85,
     "metadata": {},
     "output_type": "execute_result"
    }
   ],
   "source": [
    "df = Getch('''select user_id, exp_group,\n",
    "countIf(user_id, action='view') as view_cnt, \n",
    "countIf(user_id, action='like') as like_cnt, \n",
    "countIf(user_id, action='like')/countIf(user_id, action='view') as ctr \n",
    "from simulator_20211220.feed_actions \n",
    "where toDate(time) between '2021-12-08' and '2021-12-14'\n",
    "and exp_group in (2,3)\n",
    "group by user_id, exp_group\n",
    "''').df\n",
    "\n",
    "df"
   ]
  },
  {
   "cell_type": "code",
   "execution_count": 9,
   "id": "a82c3529-b5c7-43a4-a913-eced256ddd30",
   "metadata": {},
   "outputs": [],
   "source": [
    "def get_global_ctr(ctr_data, n_samples=5000):\n",
    "    global_ctr_data = []\n",
    "    for i in range(n_samples):\n",
    "        resample_data = ctr_data.sample(frac=0.5, replace=True)\n",
    "        global_ctr = resample_data.like_cnt.sum() / resample_data.view_cnt.sum()\n",
    "        global_ctr_data.append(global_ctr)\n",
    "        \n",
    "    sns.displot(global_ctr_data)\n",
    "    \n",
    "    return [\n",
    "    pd.Series(global_ctr_data).quantile(0.05),\n",
    "    pd.Series(global_ctr_data).mean,\n",
    "    pd.Series(global_ctr_data).quantile(0.95)\n",
    "    ]"
   ]
  },
  {
   "cell_type": "code",
   "execution_count": 13,
   "id": "32a8c679-7bff-4e64-baa6-3d3091a8f3a4",
   "metadata": {},
   "outputs": [
    {
     "data": {
      "text/plain": [
       "[0.20958951358944952,\n",
       " <bound method NDFrame._add_numeric_operations.<locals>.mean of 0       0.211834\n",
       " 1       0.211425\n",
       " 2       0.214152\n",
       " 3       0.209925\n",
       " 4       0.212321\n",
       "           ...   \n",
       " 4995    0.211114\n",
       " 4996    0.210851\n",
       " 4997    0.211539\n",
       " 4998    0.210465\n",
       " 4999    0.211108\n",
       " Length: 5000, dtype: float64>,\n",
       " 0.21319534772083973]"
      ]
     },
     "execution_count": 13,
     "metadata": {},
     "output_type": "execute_result"
    },
    {
     "data": {
      "image/png": "[encoded data removed]",
      "text/plain": [
       "<Figure size 360x360 with 1 Axes>"
      ]
     },
     "metadata": {
      "needs_background": "light"
     },
     "output_type": "display_data"
    }
   ],
   "source": [
    "get_global_ctr(df[df.exp_group==2])"
   ]
  },
  {
   "cell_type": "code",
   "execution_count": null,
   "id": "503db7d1-816d-4852-a8b2-007a70c3da16",
   "metadata": {},
   "outputs": [],
   "source": []
  },
  {
   "cell_type": "markdown",
   "id": "391a82b2-78b7-435b-92ff-088a09442821",
   "metadata": {},
   "source": [
    "## Задание 1"
   ]
  },
  {
   "cell_type": "code",
   "execution_count": null,
   "id": "ebb2388f-df77-4335-a16e-8e959d19046a",
   "metadata": {},
   "outputs": [],
   "source": [
    "df = Getch('''select user_id, exp_group,\n",
    "countIf(user_id, action='view') as view_cnt, \n",
    "countIf(user_id, action='like') as like_cnt, \n",
    "countIf(user_id, action='like')/countIf(user_id, action='view') as ctr \n",
    "from simulator_20211220.feed_actions \n",
    "where toDate(time) between '2021-12-08' and '2021-12-14'\n",
    "and exp_group in (2,3)\n",
    "group by user_id, exp_group\n",
    "''').df\n",
    "\n",
    "df"
   ]
  },
  {
   "cell_type": "code",
   "execution_count": 8,
   "id": "e7af5812-4764-4a2a-b1dd-e35f4f9c260c",
   "metadata": {},
   "outputs": [],
   "source": [
    "def get_p_values(ctr_data, group1, group2, n):\n",
    "    p_values = []\n",
    "    for i in range(n):\n",
    "        resample_1 = df[df.exp_group==group1].sample(n=500, replace=True)\n",
    "        resample_2 = df[df.exp_group==group2].sample(n=500, replace=True)\n",
    "        p_value = ttest_ind(resample_1.ctr,resample_2.ctr, equal_var=False)\n",
    "        p_values.append(p_value.pvalue)\n",
    "    \n",
    "    sns.displot(p_values, bins=100)\n",
    "    p_value_share = sum(1 for i in p_values if i<=0.05)/len(p_values)\n",
    "    if p_value_share <= 0.06:\n",
    "        msg = 'Система сплитования работает корректно, группы неоднородны в ' + str(round(p_value_share*100,2)) + '% случаев'\n",
    "    else:\n",
    "        msg = 'Система сплитования работает некорректно, группы неоднородны в ' + str(round(p_value_share*100,2)) + '% случаев'\n",
    "        \n",
    "    return msg"
   ]
  },
  {
   "cell_type": "code",
   "execution_count": 27,
   "id": "580b1868-7658-480c-bfeb-6b4945826049",
   "metadata": {},
   "outputs": [],
   "source": [
    "resample_data_g2 = df[df.exp_group==2].sample(n=500, replace=True)\n",
    "resample_data_g3 = df[df.exp_group==3].sample(n=500, replace=True)\n",
    "ttest_ind(resample_data_g2.ctr,resample_data_g3.ctr, equal_var=False).pvalue"
   ]
  },
  {
   "cell_type": "code",
   "execution_count": 9,
   "id": "6ff978b0-1ce5-4cfa-89fb-cb3f699667c8",
   "metadata": {},
   "outputs": [
    {
     "data": {
      "text/plain": [
       "'Система сплитования работает корректно, группы неоднородны в 5.11% случаев'"
      ]
     },
     "execution_count": 9,
     "metadata": {},
     "output_type": "execute_result"
    },
    {
     "data": {
      "image/png": "[encoded data removed]",
      "text/plain": [
       "<Figure size 360x360 with 1 Axes>"
      ]
     },
     "metadata": {
      "needs_background": "light"
     },
     "output_type": "display_data"
    }
   ],
   "source": [
    "get_p_values(df, 2, 3, 10000)"
   ]
  },
  {
   "cell_type": "code",
   "execution_count": null,
   "id": "4a571448-cc19-4780-9c0e-0df43706761d",
   "metadata": {},
   "outputs": [],
   "source": []
  },
  {
   "cell_type": "markdown",
   "id": "efa85256-22c7-4c99-a28b-20d5995aa411",
   "metadata": {},
   "source": [
    "## Задание 2"
   ]
  },
  {
   "cell_type": "code",
   "execution_count": 13,
   "id": "5ee167e3-20b7-4c63-8c00-ca003b22b824",
   "metadata": {},
   "outputs": [
    {
     "data": {
      "text/html": [
       "<div>\n",
       "<style scoped>\n",
       "    .dataframe tbody tr th:only-of-type {\n",
       "        vertical-align: middle;\n",
       "    }\n",
       "\n",
       "    .dataframe tbody tr th {\n",
       "        vertical-align: top;\n",
       "    }\n",
       "\n",
       "    .dataframe thead th {\n",
       "        text-align: right;\n",
       "    }\n",
       "</style>\n",
       "<table border=\"1\" class=\"dataframe\">\n",
       "  <thead>\n",
       "    <tr style=\"text-align: right;\">\n",
       "      <th></th>\n",
       "      <th>user_id</th>\n",
       "      <th>exp_group</th>\n",
       "      <th>view_cnt</th>\n",
       "      <th>like_cnt</th>\n",
       "      <th>ctr</th>\n",
       "    </tr>\n",
       "  </thead>\n",
       "  <tbody>\n",
       "    <tr>\n",
       "      <th>0</th>\n",
       "      <td>26117</td>\n",
       "      <td>1</td>\n",
       "      <td>21</td>\n",
       "      <td>5</td>\n",
       "      <td>0.238095</td>\n",
       "    </tr>\n",
       "    <tr>\n",
       "      <th>1</th>\n",
       "      <td>138232</td>\n",
       "      <td>1</td>\n",
       "      <td>29</td>\n",
       "      <td>5</td>\n",
       "      <td>0.172414</td>\n",
       "    </tr>\n",
       "    <tr>\n",
       "      <th>2</th>\n",
       "      <td>49204</td>\n",
       "      <td>1</td>\n",
       "      <td>62</td>\n",
       "      <td>10</td>\n",
       "      <td>0.161290</td>\n",
       "    </tr>\n",
       "    <tr>\n",
       "      <th>3</th>\n",
       "      <td>49286</td>\n",
       "      <td>1</td>\n",
       "      <td>19</td>\n",
       "      <td>7</td>\n",
       "      <td>0.368421</td>\n",
       "    </tr>\n",
       "    <tr>\n",
       "      <th>4</th>\n",
       "      <td>145957</td>\n",
       "      <td>1</td>\n",
       "      <td>129</td>\n",
       "      <td>54</td>\n",
       "      <td>0.418605</td>\n",
       "    </tr>\n",
       "    <tr>\n",
       "      <th>...</th>\n",
       "      <td>...</td>\n",
       "      <td>...</td>\n",
       "      <td>...</td>\n",
       "      <td>...</td>\n",
       "      <td>...</td>\n",
       "    </tr>\n",
       "    <tr>\n",
       "      <th>25994</th>\n",
       "      <td>3681</td>\n",
       "      <td>0</td>\n",
       "      <td>28</td>\n",
       "      <td>6</td>\n",
       "      <td>0.214286</td>\n",
       "    </tr>\n",
       "    <tr>\n",
       "      <th>25995</th>\n",
       "      <td>110956</td>\n",
       "      <td>1</td>\n",
       "      <td>63</td>\n",
       "      <td>12</td>\n",
       "      <td>0.190476</td>\n",
       "    </tr>\n",
       "    <tr>\n",
       "      <th>25996</th>\n",
       "      <td>132567</td>\n",
       "      <td>1</td>\n",
       "      <td>66</td>\n",
       "      <td>18</td>\n",
       "      <td>0.272727</td>\n",
       "    </tr>\n",
       "    <tr>\n",
       "      <th>25997</th>\n",
       "      <td>30872</td>\n",
       "      <td>1</td>\n",
       "      <td>82</td>\n",
       "      <td>25</td>\n",
       "      <td>0.304878</td>\n",
       "    </tr>\n",
       "    <tr>\n",
       "      <th>25998</th>\n",
       "      <td>11718</td>\n",
       "      <td>0</td>\n",
       "      <td>37</td>\n",
       "      <td>7</td>\n",
       "      <td>0.189189</td>\n",
       "    </tr>\n",
       "  </tbody>\n",
       "</table>\n",
       "<p>25999 rows × 5 columns</p>\n",
       "</div>"
      ],
      "text/plain": [
       "       user_id  exp_group  view_cnt  like_cnt       ctr\n",
       "0        26117          1        21         5  0.238095\n",
       "1       138232          1        29         5  0.172414\n",
       "2        49204          1        62        10  0.161290\n",
       "3        49286          1        19         7  0.368421\n",
       "4       145957          1       129        54  0.418605\n",
       "...        ...        ...       ...       ...       ...\n",
       "25994     3681          0        28         6  0.214286\n",
       "25995   110956          1        63        12  0.190476\n",
       "25996   132567          1        66        18  0.272727\n",
       "25997    30872          1        82        25  0.304878\n",
       "25998    11718          0        37         7  0.189189\n",
       "\n",
       "[25999 rows x 5 columns]"
      ]
     },
     "execution_count": 13,
     "metadata": {},
     "output_type": "execute_result"
    }
   ],
   "source": [
    "df = Getch('''select user_id, exp_group,\n",
    "countIf(user_id, action='view') as view_cnt, \n",
    "countIf(user_id, action='like') as like_cnt, \n",
    "countIf(user_id, action='like')/countIf(user_id, action='view') as ctr \n",
    "from simulator_20211220.feed_actions \n",
    "where toDate(time) between '2021-12-29' and '2022-01-04'\n",
    "and exp_group in (0,1)\n",
    "group by user_id, exp_group\n",
    "''').df\n",
    "\n",
    "df"
   ]
  },
  {
   "cell_type": "code",
   "execution_count": 14,
   "id": "15025290-e5f1-4039-b0d8-b6f9e0b107f2",
   "metadata": {},
   "outputs": [
    {
     "data": {
      "text/plain": [
       "<seaborn.axisgrid.FacetGrid at 0x7fe10aad37c0>"
      ]
     },
     "execution_count": 14,
     "metadata": {},
     "output_type": "execute_result"
    },
    {
     "data": {
      "image/png": "[encoded data removed]",
      "text/plain": [
       "<Figure size 360x360 with 1 Axes>"
      ]
     },
     "metadata": {
      "needs_background": "light"
     },
     "output_type": "display_data"
    }
   ],
   "source": [
    "sns.displot(df[df.exp_group==0].ctr)"
   ]
  },
  {
   "cell_type": "code",
   "execution_count": 15,
   "id": "4b150eef-280a-45da-afd2-970456a31224",
   "metadata": {},
   "outputs": [
    {
     "data": {
      "text/plain": [
       "<seaborn.axisgrid.FacetGrid at 0x7fe10cfe9280>"
      ]
     },
     "execution_count": 15,
     "metadata": {},
     "output_type": "execute_result"
    },
    {
     "data": {
      "image/png": "[encoded data removed]",
      "text/plain": [
       "<Figure size 360x360 with 1 Axes>"
      ]
     },
     "metadata": {
      "needs_background": "light"
     },
     "output_type": "display_data"
    }
   ],
   "source": [
    "sns.displot(df[df.exp_group==1].ctr)"
   ]
  },
  {
   "cell_type": "markdown",
   "id": "7a420ccb-f821-4e69-8dcd-e015d7dc8173",
   "metadata": {},
   "source": [
    "### Let's smooth ctr"
   ]
  },
  {
   "cell_type": "code",
   "execution_count": 15,
   "id": "7e09b126-02f5-471f-b0e1-3f5dbd5179e2",
   "metadata": {},
   "outputs": [],
   "source": [
    "# НАДО ДЛЯ КАЖДОЙ ГРУППЫ\n",
    "\n",
    "def get_smoothed_ctr(like_cnt, view_cnt, global_ctr, alpha):\n",
    "    ctr_smoothed = (like_cnt + alpha*global_ctr) / (view_cnt + alpha)\n",
    "    return ctr_smoothed"
   ]
  },
  {
   "cell_type": "code",
   "execution_count": 16,
   "id": "110917ff-7fe0-4f77-b3a8-b2b58bdad3e5",
   "metadata": {},
   "outputs": [
    {
     "data": {
      "text/html": [
       "<div>\n",
       "<style scoped>\n",
       "    .dataframe tbody tr th:only-of-type {\n",
       "        vertical-align: middle;\n",
       "    }\n",
       "\n",
       "    .dataframe tbody tr th {\n",
       "        vertical-align: top;\n",
       "    }\n",
       "\n",
       "    .dataframe thead th {\n",
       "        text-align: right;\n",
       "    }\n",
       "</style>\n",
       "<table border=\"1\" class=\"dataframe\">\n",
       "  <thead>\n",
       "    <tr style=\"text-align: right;\">\n",
       "      <th></th>\n",
       "      <th>user_id</th>\n",
       "      <th>exp_group</th>\n",
       "      <th>view_cnt</th>\n",
       "      <th>like_cnt</th>\n",
       "      <th>ctr</th>\n",
       "      <th>ctr_smoothed</th>\n",
       "    </tr>\n",
       "  </thead>\n",
       "  <tbody>\n",
       "    <tr>\n",
       "      <th>0</th>\n",
       "      <td>26117</td>\n",
       "      <td>1</td>\n",
       "      <td>21</td>\n",
       "      <td>5</td>\n",
       "      <td>0.238095</td>\n",
       "      <td>0.234903</td>\n",
       "    </tr>\n",
       "    <tr>\n",
       "      <th>1</th>\n",
       "      <td>138232</td>\n",
       "      <td>1</td>\n",
       "      <td>29</td>\n",
       "      <td>5</td>\n",
       "      <td>0.172414</td>\n",
       "      <td>0.179632</td>\n",
       "    </tr>\n",
       "    <tr>\n",
       "      <th>2</th>\n",
       "      <td>49204</td>\n",
       "      <td>1</td>\n",
       "      <td>62</td>\n",
       "      <td>10</td>\n",
       "      <td>0.161290</td>\n",
       "      <td>0.165783</td>\n",
       "    </tr>\n",
       "    <tr>\n",
       "      <th>3</th>\n",
       "      <td>49286</td>\n",
       "      <td>1</td>\n",
       "      <td>19</td>\n",
       "      <td>7</td>\n",
       "      <td>0.368421</td>\n",
       "      <td>0.337812</td>\n",
       "    </tr>\n",
       "    <tr>\n",
       "      <th>4</th>\n",
       "      <td>145957</td>\n",
       "      <td>1</td>\n",
       "      <td>129</td>\n",
       "      <td>54</td>\n",
       "      <td>0.418605</td>\n",
       "      <td>0.411250</td>\n",
       "    </tr>\n",
       "    <tr>\n",
       "      <th>...</th>\n",
       "      <td>...</td>\n",
       "      <td>...</td>\n",
       "      <td>...</td>\n",
       "      <td>...</td>\n",
       "      <td>...</td>\n",
       "      <td>...</td>\n",
       "    </tr>\n",
       "    <tr>\n",
       "      <th>25994</th>\n",
       "      <td>3681</td>\n",
       "      <td>0</td>\n",
       "      <td>28</td>\n",
       "      <td>6</td>\n",
       "      <td>0.214286</td>\n",
       "      <td>0.215378</td>\n",
       "    </tr>\n",
       "    <tr>\n",
       "      <th>25995</th>\n",
       "      <td>110956</td>\n",
       "      <td>1</td>\n",
       "      <td>63</td>\n",
       "      <td>12</td>\n",
       "      <td>0.190476</td>\n",
       "      <td>0.192757</td>\n",
       "    </tr>\n",
       "    <tr>\n",
       "      <th>25996</th>\n",
       "      <td>132567</td>\n",
       "      <td>1</td>\n",
       "      <td>66</td>\n",
       "      <td>18</td>\n",
       "      <td>0.272727</td>\n",
       "      <td>0.269120</td>\n",
       "    </tr>\n",
       "    <tr>\n",
       "      <th>25997</th>\n",
       "      <td>30872</td>\n",
       "      <td>1</td>\n",
       "      <td>82</td>\n",
       "      <td>25</td>\n",
       "      <td>0.304878</td>\n",
       "      <td>0.300086</td>\n",
       "    </tr>\n",
       "    <tr>\n",
       "      <th>25998</th>\n",
       "      <td>11718</td>\n",
       "      <td>0</td>\n",
       "      <td>37</td>\n",
       "      <td>7</td>\n",
       "      <td>0.189189</td>\n",
       "      <td>0.193035</td>\n",
       "    </tr>\n",
       "  </tbody>\n",
       "</table>\n",
       "<p>25999 rows × 6 columns</p>\n",
       "</div>"
      ],
      "text/plain": [
       "       user_id  exp_group  view_cnt  like_cnt       ctr  ctr_smoothed\n",
       "0        26117          1        21         5  0.238095      0.234903\n",
       "1       138232          1        29         5  0.172414      0.179632\n",
       "2        49204          1        62        10  0.161290      0.165783\n",
       "3        49286          1        19         7  0.368421      0.337812\n",
       "4       145957          1       129        54  0.418605      0.411250\n",
       "...        ...        ...       ...       ...       ...           ...\n",
       "25994     3681          0        28         6  0.214286      0.215378\n",
       "25995   110956          1        63        12  0.190476      0.192757\n",
       "25996   132567          1        66        18  0.272727      0.269120\n",
       "25997    30872          1        82        25  0.304878      0.300086\n",
       "25998    11718          0        37         7  0.189189      0.193035\n",
       "\n",
       "[25999 rows x 6 columns]"
      ]
     },
     "execution_count": 16,
     "metadata": {},
     "output_type": "execute_result"
    }
   ],
   "source": [
    "global_ctr = df.like_cnt.sum() / df.view_cnt.sum()\n",
    "df['ctr_smoothed'] = df.apply(lambda x: get_smoothed_ctr(x['like_cnt'], x['view_cnt'], global_ctr, 5), axis=1)\n",
    "df"
   ]
  },
  {
   "cell_type": "code",
   "execution_count": 49,
   "id": "0704c2d6-adf0-4ff9-bbbd-17375852db26",
   "metadata": {},
   "outputs": [
    {
     "name": "stdout",
     "output_type": "stream",
     "text": [
      "Mean =  0.22095848556207223\n"
     ]
    },
    {
     "data": {
      "text/plain": [
       "<seaborn.axisgrid.FacetGrid at 0x7fe0f988bc40>"
      ]
     },
     "execution_count": 49,
     "metadata": {},
     "output_type": "execute_result"
    },
    {
     "data": {
      "image/png": "[encoded data removed]",
      "text/plain": [
       "<Figure size 360x360 with 1 Axes>"
      ]
     },
     "metadata": {
      "needs_background": "light"
     },
     "output_type": "display_data"
    }
   ],
   "source": [
    "print('Mean = ', df[df.exp_group==0]['ctr_smoothed'].mean())\n",
    "sns.displot(df[df.exp_group==0].ctr_smoothed)"
   ]
  },
  {
   "cell_type": "code",
   "execution_count": 50,
   "id": "f4907bfb-14cc-4c54-86a5-e48a09917a9f",
   "metadata": {},
   "outputs": [
    {
     "name": "stdout",
     "output_type": "stream",
     "text": [
      "Mean =  0.234139241899461\n"
     ]
    },
    {
     "data": {
      "text/plain": [
       "<seaborn.axisgrid.FacetGrid at 0x7fe0f9690fa0>"
      ]
     },
     "execution_count": 50,
     "metadata": {},
     "output_type": "execute_result"
    },
    {
     "data": {
      "image/png": "[encoded data removed]",
      "text/plain": [
       "<Figure size 360x360 with 1 Axes>"
      ]
     },
     "metadata": {
      "needs_background": "light"
     },
     "output_type": "display_data"
    }
   ],
   "source": [
    "print('Mean = ', df[df.exp_group==1]['ctr_smoothed'].mean())\n",
    "sns.displot(df[df.exp_group==1].ctr_smoothed)"
   ]
  },
  {
   "cell_type": "markdown",
   "id": "734aa4e6-026d-4a5f-9edd-2e5956741a68",
   "metadata": {
    "tags": []
   },
   "source": [
    "## Сравниваем две выборки (т-тестом, есть ли различия)"
   ]
  },
  {
   "cell_type": "code",
   "execution_count": null,
   "id": "c54e50f6-81f4-45fd-ba1c-24cb196cce3d",
   "metadata": {},
   "outputs": [],
   "source": []
  },
  {
   "cell_type": "code",
   "execution_count": 73,
   "id": "a7c5d03c-1d9a-4851-9e0c-e46288679d60",
   "metadata": {},
   "outputs": [],
   "source": [
    "def check_effect(smoothed_ctr_data, group1, group2):\n",
    "    p_value = ttest_ind(smoothed_ctr_data[smoothed_ctr_data.exp_group==group1].ctr_smoothed, smoothed_ctr_data[smoothed_ctr_data.exp_group==group2].ctr_smoothed, equal_var=False).pvalue\n",
    "    diff = (smoothed_ctr_data[smoothed_ctr_data.exp_group==group2].ctr_smoothed.mean() - smoothed_ctr_data[smoothed_ctr_data.exp_group==group1].ctr_smoothed.mean()) / smoothed_ctr_data[smoothed_ctr_data.exp_group==group1].ctr_smoothed.mean() *100\n",
    "    if p_value<0.05:\n",
    "        msg = 'Эффект от внедрения нового алгоритма присутствует, CTR увеличился на ' + str(round(diff,2)) + '%'\n",
    "    else:\n",
    "        msg = 'Эффект от внедрения нового алгоритма обнаружить не удалось'\n",
    "    print(msg)"
   ]
  },
  {
   "cell_type": "code",
   "execution_count": 74,
   "id": "483c5ce0-b223-41b4-ac4d-7257e7e3aaf1",
   "metadata": {},
   "outputs": [
    {
     "name": "stdout",
     "output_type": "stream",
     "text": [
      "Эффект от внедрения нового алгоритма присутствует, CTR увеличился на 5.97%\n"
     ]
    }
   ],
   "source": [
    "check_effect(df, 0, 1)"
   ]
  },
  {
   "cell_type": "markdown",
   "id": "5c6e98bc-befa-443f-8f59-e558894dfc67",
   "metadata": {},
   "source": [
    "## Сравниваем две выборки по метрике просмотров (не должно быть различий)"
   ]
  },
  {
   "cell_type": "code",
   "execution_count": 75,
   "id": "e7fa2c3b-255a-4ad9-ae57-df3ed789a8c8",
   "metadata": {},
   "outputs": [
    {
     "data": {
      "text/plain": [
       "<seaborn.axisgrid.FacetGrid at 0x7fe0f97519a0>"
      ]
     },
     "execution_count": 75,
     "metadata": {},
     "output_type": "execute_result"
    },
    {
     "data": {
      "image/png": "[encoded data removed]",
      "text/plain": [
       "<Figure size 360x360 with 1 Axes>"
      ]
     },
     "metadata": {
      "needs_background": "light"
     },
     "output_type": "display_data"
    }
   ],
   "source": [
    "sns.displot(df[df.exp_group==0].view_cnt)"
   ]
  },
  {
   "cell_type": "code",
   "execution_count": 76,
   "id": "7e84972c-87f3-4a2f-a57b-94fbebfa06a7",
   "metadata": {},
   "outputs": [
    {
     "data": {
      "text/plain": [
       "<seaborn.axisgrid.FacetGrid at 0x7fe0f9751640>"
      ]
     },
     "execution_count": 76,
     "metadata": {},
     "output_type": "execute_result"
    },
    {
     "data": {
      "image/png": "[encoded data removed]",
      "text/plain": [
       "<Figure size 360x360 with 1 Axes>"
      ]
     },
     "metadata": {
      "needs_background": "light"
     },
     "output_type": "display_data"
    }
   ],
   "source": [
    "sns.displot(df[df.exp_group==1].view_cnt)"
   ]
  },
  {
   "cell_type": "code",
   "execution_count": 78,
   "id": "cf59f969-0f2d-420f-9c29-77d10e5e7490",
   "metadata": {},
   "outputs": [
    {
     "data": {
      "text/plain": [
       "MannwhitneyuResult(statistic=84514942.0, pvalue=0.9717276363684261)"
      ]
     },
     "execution_count": 78,
     "metadata": {},
     "output_type": "execute_result"
    }
   ],
   "source": [
    "mannwhitneyu(df[df.exp_group==0].view_cnt,df[df.exp_group==1].view_cnt)"
   ]
  },
  {
   "cell_type": "code",
   "execution_count": 81,
   "id": "8cdd290d-79ed-4656-87c4-ed521e1cc6d0",
   "metadata": {},
   "outputs": [],
   "source": [
    "def check_secondary_metric(data, group1, group2):\n",
    "    p_value = mannwhitneyu(data[data.exp_group==group1].view_cnt,data[data.exp_group==group2].view_cnt).pvalue\n",
    "    diff = (data[data.exp_group==group2].view_cnt.mean() - data[data.exp_group==group1].view_cnt.mean()) / data[data.exp_group==group1].view_cnt.mean() *100\n",
    "    if p_value<0.05:\n",
    "        msg = 'Новый алгоритм повлиял на вторичную метрику Views, она изменилась на ' + str(round(diff,2)) + '%'\n",
    "    else:\n",
    "        msg = 'Новый алгоритм не повлиял на значение вторичной метрики Views'\n",
    "    print(msg)"
   ]
  },
  {
   "cell_type": "code",
   "execution_count": 82,
   "id": "fcf3e79e-c612-447c-809d-16efd47d4d08",
   "metadata": {},
   "outputs": [
    {
     "name": "stdout",
     "output_type": "stream",
     "text": [
      "Новый алгоритм не повлиял на значение вторичной метрики Views\n"
     ]
    }
   ],
   "source": [
    "check_secondary_metric(df, 0, 1)"
   ]
  },
  {
   "cell_type": "code",
   "execution_count": null,
   "id": "42255492-4a6f-436f-9a63-aadd4ad30d8f",
   "metadata": {},
   "outputs": [],
   "source": []
  },
  {
   "cell_type": "markdown",
   "id": "4d062095-3b47-461a-b7aa-b6997c98332f",
   "metadata": {},
   "source": [
    "#### Задание 3"
   ]
  },
  {
   "cell_type": "code",
   "execution_count": 3,
   "id": "b5679c36-7517-4fbd-a989-fad4b91d7b92",
   "metadata": {},
   "outputs": [
    {
     "name": "stdout",
     "output_type": "stream",
     "text": [
      "Effect size: 0.47, and sample Size: 73.50\n"
     ]
    }
   ],
   "source": [
    "from statsmodels.stats.power import TTestIndPower\n",
    "# parameters for power analysis \n",
    "rA = 0.7\n",
    "dr = 0.25\n",
    "rB = rA+dr\n",
    "\n",
    "r = (rA+rB)/2\n",
    "\n",
    "pooled_var = 2*r*(1-r) # rA*(1-rA) + rB*(1-rB)\n",
    "effect_size = dr/np.sqrt(pooled_var)\n",
    "\n",
    "alpha = 0.05\n",
    "power = 0.8  #\n",
    "# perform power analysis\n",
    "analysis = TTestIndPower()\n",
    "result = analysis.solve_power(effect_size, power=power, nobs1=None, ratio=1.0, alpha=alpha)\n",
    "print('Effect size: {:.2f}, and sample Size: {:.2f}'.format(effect_size,result))"
   ]
  },
  {
   "cell_type": "code",
   "execution_count": 12,
   "id": "8d3d66cb-ec8d-4dfd-b9f7-d61dbbde8504",
   "metadata": {},
   "outputs": [
    {
     "name": "stdout",
     "output_type": "stream",
     "text": [
      "Effect size: 0.30, and sample size: 175.38\n"
     ]
    }
   ],
   "source": [
    "from statsmodels.stats.power import TTestIndPower\n",
    "\n",
    "effect_size = 0.3\n",
    "alpha = 0.05\n",
    "power = 0.8 \n",
    "\n",
    "\n",
    "\n",
    "analysis = TTestIndPower()\n",
    "result = analysis.solve_power(effect_size, power=power, nobs1=None, ratio=1.0, alpha=alpha)\n",
    "\n",
    "print('Sample size: {:.2f}'.format(result))"
   ]
  },
  {
   "cell_type": "code",
   "execution_count": null,
   "id": "d777fa2a-3e72-4a23-9e11-92e7cb113586",
   "metadata": {},
   "outputs": [],
   "source": []
  },
  {
   "cell_type": "code",
   "execution_count": 37,
   "id": "3e4ca981-498a-4525-aa23-9e519bda5227",
   "metadata": {},
   "outputs": [
    {
     "name": "stdout",
     "output_type": "stream",
     "text": [
      "Effect size: 0.18\n"
     ]
    }
   ],
   "source": [
    "n1 = len(df[df.exp_group==0])        # number of observations of sample 1\n",
    "n2 = len(df[df.exp_group==1])         # number of observations of sample 2\n",
    "mi1 = df[df.exp_group==0].ctr_smoothed.mean()       # mean of sample 1\n",
    "mi2 = df[df.exp_group==1].ctr_smoothed.mean()     # mean of sample 2\n",
    "sigma1 = df[df.exp_group==0].ctr_smoothed.std()     # standard deviation of sample 1\n",
    "sigma2 = df[df.exp_group==1].ctr_smoothed.std()     # standard deviation of sample 2\n",
    "alpha = 0.05   # significance level\n",
    "\n",
    "\n",
    "sd_pooled = np.sqrt(((n2 - 1)*sigma2**2 + (n1 - 1)*sigma1**2)/(n1 + n2 - 2))\n",
    "effect_size = (mi2 - mi1)/sd_pooled\n",
    "\n",
    "print('Effect size: {:.2f}'.format(effect_size))"
   ]
  },
  {
   "cell_type": "code",
   "execution_count": 38,
   "id": "b60edca7-c060-4fda-a283-809fa1b04ec4",
   "metadata": {},
   "outputs": [
    {
     "name": "stdout",
     "output_type": "stream",
     "text": [
      "Sample size: 501.42\n"
     ]
    }
   ],
   "source": [
    "alpha = 0.05\n",
    "power = 0.8 \n",
    "\n",
    "\n",
    "# perform power analysis\n",
    "analysis = TTestIndPower()\n",
    "result = analysis.solve_power(effect_size, power=power, nobs1=None, ratio=1.0, alpha=alpha)\n",
    "print('Sample size: {:.2f}'.format(result))"
   ]
  },
  {
   "cell_type": "code",
   "execution_count": null,
   "id": "7322c7de-861a-4ddd-9c35-63464bf767b3",
   "metadata": {},
   "outputs": [],
   "source": [
    "Для получения effect size = 0.18 можно было использовать меньший объем выборки."
   ]
  }
 ],
 "metadata": {
  "kernelspec": {
   "display_name": "Python 3 (ipykernel)",
   "language": "python",
   "name": "python3"
  },
  "language_info": {
   "codemirror_mode": {
    "name": "ipython",
    "version": 3
   },
   "file_extension": ".py",
   "mimetype": "text/x-python",
   "name": "python",
   "nbconvert_exporter": "python",
   "pygments_lexer": "ipython3",
   "version": "3.9.7"
  }
 },
 "nbformat": 4,
 "nbformat_minor": 5
}
